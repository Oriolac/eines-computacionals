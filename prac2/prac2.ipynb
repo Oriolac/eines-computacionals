{
 "cells": [
  {
   "cell_type": "markdown",
   "metadata": {},
   "source": [
    "# Fermat and Miller-Rabin primality tests."
   ]
  },
  {
   "cell_type": "code",
   "execution_count": 1,
   "metadata": {},
   "outputs": [],
   "source": [
    "import sage.rings.finite_rings.integer_mod_ring as zp\n",
    "import random"
   ]
  },
  {
   "cell_type": "markdown",
   "metadata": {},
   "source": [
    "### Problem 1"
   ]
  },
  {
   "cell_type": "markdown",
   "metadata": {},
   "source": [
    "##### i)\n",
    "Show Fermat’s little Theorem for n = 17 and any a in {1, 2, . . . , 16}"
   ]
  },
  {
   "cell_type": "code",
   "execution_count": 2,
   "metadata": {},
   "outputs": [
    {
     "name": "stdout",
     "output_type": "stream",
     "text": [
      "0 ^ (p-1) =  0\n",
      "1 ^ (p-1) =  1\n",
      "2 ^ (p-1) =  1\n",
      "3 ^ (p-1) =  1\n",
      "4 ^ (p-1) =  1\n",
      "5 ^ (p-1) =  1\n",
      "6 ^ (p-1) =  1\n",
      "7 ^ (p-1) =  1\n",
      "8 ^ (p-1) =  1\n",
      "9 ^ (p-1) =  1\n",
      "10 ^ (p-1) =  1\n",
      "11 ^ (p-1) =  1\n",
      "12 ^ (p-1) =  1\n",
      "13 ^ (p-1) =  1\n",
      "14 ^ (p-1) =  1\n",
      "15 ^ (p-1) =  1\n",
      "16 ^ (p-1) =  1\n"
     ]
    }
   ],
   "source": [
    "for a in GF(17):\n",
    "    print(f\"{a} ^ (p-1) = \", a ** (17-1))"
   ]
  },
  {
   "cell_type": "markdown",
   "metadata": {},
   "source": [
    "##### ii)\n",
    "Show what happens if n = 124 and a = 3. And if n = 124 and a = 5? We say 124\n",
    "is a Fermat pseudoprime in base 5."
   ]
  },
  {
   "cell_type": "code",
   "execution_count": 3,
   "metadata": {},
   "outputs": [],
   "source": [
    "fermat = lambda a, n: zp.IntegerModRing(n)(a ** (n-1))"
   ]
  },
  {
   "cell_type": "code",
   "execution_count": 4,
   "metadata": {},
   "outputs": [
    {
     "data": {
      "text/plain": [
       "27"
      ]
     },
     "execution_count": 4,
     "metadata": {},
     "output_type": "execute_result"
    }
   ],
   "source": [
    "fermat(3, 124)"
   ]
  },
  {
   "cell_type": "code",
   "execution_count": 5,
   "metadata": {},
   "outputs": [
    {
     "data": {
      "text/plain": [
       "1"
      ]
     },
     "execution_count": 5,
     "metadata": {},
     "output_type": "execute_result"
    }
   ],
   "source": [
    "fermat(5, 124)"
   ]
  },
  {
   "cell_type": "markdown",
   "metadata": {},
   "source": [
    "##### iii)\n",
    "Show what happens for n = 561 and any a ∈ {1, · · · , 560} such that gcd(a, 561) = 1. We say 561 is a pseudoprime in any base, or a Carmichael number"
   ]
  },
  {
   "cell_type": "code",
   "execution_count": 6,
   "metadata": {
    "scrolled": false
   },
   "outputs": [
    {
     "name": "stdout",
     "output_type": "stream",
     "text": [
      "1 ^ 560 = 1\n",
      "2 ^ 560 = 1\n",
      "4 ^ 560 = 1\n",
      "5 ^ 560 = 1\n",
      "7 ^ 560 = 1\n",
      "8 ^ 560 = 1\n",
      "10 ^ 560 = 1\n",
      "13 ^ 560 = 1\n",
      "14 ^ 560 = 1\n",
      "16 ^ 560 = 1\n",
      "19 ^ 560 = 1\n",
      "20 ^ 560 = 1\n",
      "23 ^ 560 = 1\n",
      "25 ^ 560 = 1\n",
      "26 ^ 560 = 1\n",
      "28 ^ 560 = 1\n",
      "29 ^ 560 = 1\n",
      "31 ^ 560 = 1\n",
      "32 ^ 560 = 1\n",
      "35 ^ 560 = 1\n",
      "37 ^ 560 = 1\n",
      "38 ^ 560 = 1\n",
      "40 ^ 560 = 1\n",
      "41 ^ 560 = 1\n",
      "43 ^ 560 = 1\n",
      "46 ^ 560 = 1\n",
      "47 ^ 560 = 1\n",
      "49 ^ 560 = 1\n",
      "50 ^ 560 = 1\n",
      "52 ^ 560 = 1\n",
      "53 ^ 560 = 1\n",
      "56 ^ 560 = 1\n",
      "58 ^ 560 = 1\n",
      "59 ^ 560 = 1\n",
      "61 ^ 560 = 1\n",
      "62 ^ 560 = 1\n",
      "64 ^ 560 = 1\n",
      "65 ^ 560 = 1\n",
      "67 ^ 560 = 1\n",
      "70 ^ 560 = 1\n",
      "71 ^ 560 = 1\n",
      "73 ^ 560 = 1\n",
      "74 ^ 560 = 1\n",
      "76 ^ 560 = 1\n",
      "79 ^ 560 = 1\n",
      "80 ^ 560 = 1\n",
      "82 ^ 560 = 1\n",
      "83 ^ 560 = 1\n",
      "86 ^ 560 = 1\n",
      "89 ^ 560 = 1\n",
      "91 ^ 560 = 1\n",
      "92 ^ 560 = 1\n",
      "94 ^ 560 = 1\n",
      "95 ^ 560 = 1\n",
      "97 ^ 560 = 1\n",
      "98 ^ 560 = 1\n",
      "100 ^ 560 = 1\n",
      "101 ^ 560 = 1\n",
      "103 ^ 560 = 1\n",
      "104 ^ 560 = 1\n",
      "106 ^ 560 = 1\n",
      "107 ^ 560 = 1\n",
      "109 ^ 560 = 1\n",
      "112 ^ 560 = 1\n",
      "113 ^ 560 = 1\n",
      "115 ^ 560 = 1\n",
      "116 ^ 560 = 1\n",
      "118 ^ 560 = 1\n",
      "122 ^ 560 = 1\n",
      "124 ^ 560 = 1\n",
      "125 ^ 560 = 1\n",
      "127 ^ 560 = 1\n",
      "128 ^ 560 = 1\n",
      "130 ^ 560 = 1\n",
      "131 ^ 560 = 1\n",
      "133 ^ 560 = 1\n",
      "134 ^ 560 = 1\n",
      "137 ^ 560 = 1\n",
      "139 ^ 560 = 1\n",
      "140 ^ 560 = 1\n",
      "142 ^ 560 = 1\n",
      "145 ^ 560 = 1\n",
      "146 ^ 560 = 1\n",
      "148 ^ 560 = 1\n",
      "149 ^ 560 = 1\n",
      "151 ^ 560 = 1\n",
      "152 ^ 560 = 1\n",
      "155 ^ 560 = 1\n",
      "157 ^ 560 = 1\n",
      "158 ^ 560 = 1\n",
      "160 ^ 560 = 1\n",
      "161 ^ 560 = 1\n",
      "163 ^ 560 = 1\n",
      "164 ^ 560 = 1\n",
      "166 ^ 560 = 1\n",
      "167 ^ 560 = 1\n",
      "169 ^ 560 = 1\n",
      "172 ^ 560 = 1\n",
      "173 ^ 560 = 1\n",
      "175 ^ 560 = 1\n",
      "178 ^ 560 = 1\n",
      "179 ^ 560 = 1\n",
      "181 ^ 560 = 1\n",
      "182 ^ 560 = 1\n",
      "184 ^ 560 = 1\n",
      "185 ^ 560 = 1\n",
      "188 ^ 560 = 1\n",
      "190 ^ 560 = 1\n",
      "191 ^ 560 = 1\n",
      "193 ^ 560 = 1\n",
      "194 ^ 560 = 1\n",
      "196 ^ 560 = 1\n",
      "197 ^ 560 = 1\n",
      "199 ^ 560 = 1\n",
      "200 ^ 560 = 1\n",
      "202 ^ 560 = 1\n",
      "203 ^ 560 = 1\n",
      "205 ^ 560 = 1\n",
      "206 ^ 560 = 1\n",
      "208 ^ 560 = 1\n",
      "211 ^ 560 = 1\n",
      "212 ^ 560 = 1\n",
      "214 ^ 560 = 1\n",
      "215 ^ 560 = 1\n",
      "217 ^ 560 = 1\n",
      "218 ^ 560 = 1\n",
      "223 ^ 560 = 1\n",
      "224 ^ 560 = 1\n",
      "226 ^ 560 = 1\n",
      "227 ^ 560 = 1\n",
      "229 ^ 560 = 1\n",
      "230 ^ 560 = 1\n",
      "232 ^ 560 = 1\n",
      "233 ^ 560 = 1\n",
      "235 ^ 560 = 1\n",
      "236 ^ 560 = 1\n",
      "239 ^ 560 = 1\n",
      "241 ^ 560 = 1\n",
      "244 ^ 560 = 1\n",
      "245 ^ 560 = 1\n",
      "247 ^ 560 = 1\n",
      "248 ^ 560 = 1\n",
      "250 ^ 560 = 1\n",
      "251 ^ 560 = 1\n",
      "254 ^ 560 = 1\n",
      "256 ^ 560 = 1\n",
      "257 ^ 560 = 1\n",
      "259 ^ 560 = 1\n",
      "260 ^ 560 = 1\n",
      "262 ^ 560 = 1\n",
      "263 ^ 560 = 1\n",
      "265 ^ 560 = 1\n",
      "266 ^ 560 = 1\n",
      "268 ^ 560 = 1\n",
      "269 ^ 560 = 1\n",
      "271 ^ 560 = 1\n",
      "274 ^ 560 = 1\n",
      "277 ^ 560 = 1\n",
      "278 ^ 560 = 1\n",
      "280 ^ 560 = 1\n",
      "281 ^ 560 = 1\n",
      "283 ^ 560 = 1\n",
      "284 ^ 560 = 1\n",
      "287 ^ 560 = 1\n",
      "290 ^ 560 = 1\n",
      "292 ^ 560 = 1\n",
      "293 ^ 560 = 1\n",
      "295 ^ 560 = 1\n",
      "296 ^ 560 = 1\n",
      "298 ^ 560 = 1\n",
      "299 ^ 560 = 1\n",
      "301 ^ 560 = 1\n",
      "302 ^ 560 = 1\n",
      "304 ^ 560 = 1\n",
      "305 ^ 560 = 1\n",
      "307 ^ 560 = 1\n",
      "310 ^ 560 = 1\n",
      "311 ^ 560 = 1\n",
      "313 ^ 560 = 1\n",
      "314 ^ 560 = 1\n",
      "316 ^ 560 = 1\n",
      "317 ^ 560 = 1\n",
      "320 ^ 560 = 1\n",
      "322 ^ 560 = 1\n",
      "325 ^ 560 = 1\n",
      "326 ^ 560 = 1\n",
      "328 ^ 560 = 1\n",
      "329 ^ 560 = 1\n",
      "331 ^ 560 = 1\n",
      "332 ^ 560 = 1\n",
      "334 ^ 560 = 1\n",
      "335 ^ 560 = 1\n",
      "337 ^ 560 = 1\n",
      "338 ^ 560 = 1\n",
      "343 ^ 560 = 1\n",
      "344 ^ 560 = 1\n",
      "346 ^ 560 = 1\n",
      "347 ^ 560 = 1\n",
      "349 ^ 560 = 1\n",
      "350 ^ 560 = 1\n",
      "353 ^ 560 = 1\n",
      "355 ^ 560 = 1\n",
      "356 ^ 560 = 1\n",
      "358 ^ 560 = 1\n",
      "359 ^ 560 = 1\n",
      "361 ^ 560 = 1\n",
      "362 ^ 560 = 1\n",
      "364 ^ 560 = 1\n",
      "365 ^ 560 = 1\n",
      "367 ^ 560 = 1\n",
      "368 ^ 560 = 1\n",
      "370 ^ 560 = 1\n",
      "371 ^ 560 = 1\n",
      "373 ^ 560 = 1\n",
      "376 ^ 560 = 1\n",
      "377 ^ 560 = 1\n",
      "379 ^ 560 = 1\n",
      "380 ^ 560 = 1\n",
      "382 ^ 560 = 1\n",
      "383 ^ 560 = 1\n",
      "386 ^ 560 = 1\n",
      "388 ^ 560 = 1\n",
      "389 ^ 560 = 1\n",
      "392 ^ 560 = 1\n",
      "394 ^ 560 = 1\n",
      "395 ^ 560 = 1\n",
      "397 ^ 560 = 1\n",
      "398 ^ 560 = 1\n",
      "400 ^ 560 = 1\n",
      "401 ^ 560 = 1\n",
      "403 ^ 560 = 1\n",
      "404 ^ 560 = 1\n",
      "406 ^ 560 = 1\n",
      "409 ^ 560 = 1\n",
      "410 ^ 560 = 1\n",
      "412 ^ 560 = 1\n",
      "413 ^ 560 = 1\n",
      "415 ^ 560 = 1\n",
      "416 ^ 560 = 1\n",
      "419 ^ 560 = 1\n",
      "421 ^ 560 = 1\n",
      "422 ^ 560 = 1\n",
      "424 ^ 560 = 1\n",
      "427 ^ 560 = 1\n",
      "428 ^ 560 = 1\n",
      "430 ^ 560 = 1\n",
      "431 ^ 560 = 1\n",
      "433 ^ 560 = 1\n",
      "434 ^ 560 = 1\n",
      "436 ^ 560 = 1\n",
      "437 ^ 560 = 1\n",
      "439 ^ 560 = 1\n",
      "443 ^ 560 = 1\n",
      "445 ^ 560 = 1\n",
      "446 ^ 560 = 1\n",
      "448 ^ 560 = 1\n",
      "449 ^ 560 = 1\n",
      "452 ^ 560 = 1\n",
      "454 ^ 560 = 1\n",
      "455 ^ 560 = 1\n",
      "457 ^ 560 = 1\n",
      "458 ^ 560 = 1\n",
      "460 ^ 560 = 1\n",
      "461 ^ 560 = 1\n",
      "463 ^ 560 = 1\n",
      "464 ^ 560 = 1\n",
      "466 ^ 560 = 1\n",
      "467 ^ 560 = 1\n",
      "469 ^ 560 = 1\n",
      "470 ^ 560 = 1\n",
      "472 ^ 560 = 1\n",
      "475 ^ 560 = 1\n",
      "478 ^ 560 = 1\n",
      "479 ^ 560 = 1\n",
      "481 ^ 560 = 1\n",
      "482 ^ 560 = 1\n",
      "485 ^ 560 = 1\n",
      "487 ^ 560 = 1\n",
      "488 ^ 560 = 1\n",
      "490 ^ 560 = 1\n",
      "491 ^ 560 = 1\n",
      "494 ^ 560 = 1\n",
      "496 ^ 560 = 1\n",
      "497 ^ 560 = 1\n",
      "499 ^ 560 = 1\n",
      "500 ^ 560 = 1\n",
      "502 ^ 560 = 1\n",
      "503 ^ 560 = 1\n",
      "505 ^ 560 = 1\n",
      "508 ^ 560 = 1\n",
      "509 ^ 560 = 1\n",
      "511 ^ 560 = 1\n",
      "512 ^ 560 = 1\n",
      "514 ^ 560 = 1\n",
      "515 ^ 560 = 1\n",
      "518 ^ 560 = 1\n",
      "520 ^ 560 = 1\n",
      "521 ^ 560 = 1\n",
      "523 ^ 560 = 1\n",
      "524 ^ 560 = 1\n",
      "526 ^ 560 = 1\n",
      "529 ^ 560 = 1\n",
      "530 ^ 560 = 1\n",
      "532 ^ 560 = 1\n",
      "533 ^ 560 = 1\n",
      "535 ^ 560 = 1\n",
      "536 ^ 560 = 1\n",
      "538 ^ 560 = 1\n",
      "541 ^ 560 = 1\n",
      "542 ^ 560 = 1\n",
      "545 ^ 560 = 1\n",
      "547 ^ 560 = 1\n",
      "548 ^ 560 = 1\n",
      "551 ^ 560 = 1\n",
      "553 ^ 560 = 1\n",
      "554 ^ 560 = 1\n",
      "556 ^ 560 = 1\n",
      "557 ^ 560 = 1\n",
      "559 ^ 560 = 1\n",
      "560 ^ 560 = 1\n"
     ]
    }
   ],
   "source": [
    "for a in range(1, 561):\n",
    "    if gcd(a, 561) == 1:\n",
    "        print(f\"{a} ^ 560 =\", fermat(a, 561))"
   ]
  },
  {
   "cell_type": "markdown",
   "metadata": {},
   "source": [
    "##### iv)\n",
    "Find the first (composite) n which is a Fermat pseudoprime in base a = 2."
   ]
  },
  {
   "cell_type": "code",
   "execution_count": 7,
   "metadata": {
    "scrolled": true
   },
   "outputs": [
    {
     "data": {
      "text/plain": [
       "341"
      ]
     },
     "execution_count": 7,
     "metadata": {},
     "output_type": "execute_result"
    }
   ],
   "source": [
    "def find_fermat_pseudoprime(a, max_r= 20000):\n",
    "    for i in range(2, max_r):\n",
    "        x = Integer(i)\n",
    "        if gcd(a, i) != 1:\n",
    "            continue\n",
    "        if not x.is_prime() and fermat(a, i) == 1:\n",
    "            return i\n",
    "find_fermat_pseudoprime(2)"
   ]
  },
  {
   "cell_type": "markdown",
   "metadata": {},
   "source": [
    "##### v)\n",
    "Find the first (composite) n which is a Fermat pseudoprime in base a = 3."
   ]
  },
  {
   "cell_type": "code",
   "execution_count": 8,
   "metadata": {
    "scrolled": true
   },
   "outputs": [
    {
     "data": {
      "text/plain": [
       "91"
      ]
     },
     "execution_count": 8,
     "metadata": {},
     "output_type": "execute_result"
    }
   ],
   "source": [
    "find_fermat_pseudoprime(3)"
   ]
  },
  {
   "cell_type": "markdown",
   "metadata": {},
   "source": [
    "##### vi)\n",
    "Find all the Carmichael numbers less than 10000."
   ]
  },
  {
   "cell_type": "code",
   "execution_count": 9,
   "metadata": {},
   "outputs": [],
   "source": [
    "find_relative_coprimes = lambda x: Zmod(x).list_of_elements_of_multiplicative_group()"
   ]
  },
  {
   "cell_type": "code",
   "execution_count": 10,
   "metadata": {},
   "outputs": [],
   "source": [
    "def is_carmichael(x):\n",
    "    return all(map(lambda y: fermat(y, x) == 1, filter(lambda y: gcd(x,y) == 1, [a for a in range(2, x - 1)])))"
   ]
  },
  {
   "cell_type": "code",
   "execution_count": 11,
   "metadata": {},
   "outputs": [
    {
     "data": {
      "text/plain": [
       "[1, 4, 6, 561, 1105, 1729, 2465, 2821, 6601, 8911]"
      ]
     },
     "execution_count": 11,
     "metadata": {},
     "output_type": "execute_result"
    }
   ],
   "source": [
    "def is_pseudoprime_in_any(x):\n",
    "    return all(map(lambda y: fermat(y, x) == 1, filter(lambda y: gcd(x,y) == 1, [a for a in range(2, x - 1)])))\n",
    "list(filter(is_pseudoprime_in_any, filter(lambda x: not is_prime(x),range(1, 10000))))"
   ]
  },
  {
   "cell_type": "markdown",
   "metadata": {},
   "source": [
    "##### vii)\n",
    "Show 323, 90.751 are not prime numbers using Fermat’s little Theorem."
   ]
  },
  {
   "cell_type": "code",
   "execution_count": 12,
   "metadata": {},
   "outputs": [
    {
     "data": {
      "text/plain": [
       "False"
      ]
     },
     "execution_count": 12,
     "metadata": {},
     "output_type": "execute_result"
    }
   ],
   "source": [
    "is_pseudoprime_in_any(323)"
   ]
  },
  {
   "cell_type": "code",
   "execution_count": 13,
   "metadata": {},
   "outputs": [
    {
     "data": {
      "text/plain": [
       "False"
      ]
     },
     "execution_count": 13,
     "metadata": {},
     "output_type": "execute_result"
    }
   ],
   "source": [
    "is_pseudoprime_in_any(90751)"
   ]
  },
  {
   "cell_type": "markdown",
   "metadata": {},
   "source": [
    "# Problem 2"
   ]
  },
  {
   "cell_type": "code",
   "execution_count": 14,
   "metadata": {},
   "outputs": [],
   "source": [
    "def miller_rabin(n, a):\n",
    "    \"\"\"\n",
    "    It returns true if it tells that n is prime, otherwise false\n",
    "    \"\"\"\n",
    "    zn = zp.IntegerModRing(n)\n",
    "    s = factor(n-1)[0][1]\n",
    "    d = (n-1) / (2 ** s)\n",
    "    a = zn(a)\n",
    "    res = list(map(lambda r: a ** ((2 ** r) * d) , range(0, s)))\n",
    "    res = any(map(lambda x: x == -1, res)) and a ** d \n",
    "    return res"
   ]
  },
  {
   "cell_type": "code",
   "execution_count": 16,
   "metadata": {},
   "outputs": [
    {
     "data": {
      "text/plain": [
       "True"
      ]
     },
     "execution_count": 16,
     "metadata": {},
     "output_type": "execute_result"
    }
   ],
   "source": [
    "miller_rabin(221, 174)"
   ]
  },
  {
   "cell_type": "code",
   "execution_count": 17,
   "metadata": {},
   "outputs": [
    {
     "data": {
      "text/plain": [
       "True"
      ]
     },
     "execution_count": 17,
     "metadata": {},
     "output_type": "execute_result"
    }
   ],
   "source": [
    "miller_rabin(1973, 51)"
   ]
  },
  {
   "cell_type": "code",
   "execution_count": 18,
   "metadata": {},
   "outputs": [],
   "source": [
    "def seed_maker(n, num_seeds, seeds=None):\n",
    "    import random\n",
    "    random.seed(seed)\n",
    "    return [random.randrange(n-1) for _ in range(num_seeds)]"
   ]
  },
  {
   "cell_type": "code",
   "execution_count": 19,
   "metadata": {
    "scrolled": true
   },
   "outputs": [
    {
     "data": {
      "text/plain": [
       "True"
      ]
     },
     "execution_count": 19,
     "metadata": {},
     "output_type": "execute_result"
    }
   ],
   "source": [
    "def miller_rabin_test(n, alist):\n",
    "    return all(map(lambda x: miller_rabin(n, x), alist))\n",
    "miller_rabin_test(1973, seed_maker(1973, 30))"
   ]
  },
  {
   "cell_type": "code",
   "execution_count": 29,
   "metadata": {
    "scrolled": true
   },
   "outputs": [
    {
     "data": {
      "text/plain": [
       "False"
      ]
     },
     "execution_count": 29,
     "metadata": {},
     "output_type": "execute_result"
    }
   ],
   "source": [
    "miller_rabin_test(221, seed_maker(221, 40))\n"
   ]
  },
  {
   "cell_type": "code",
   "execution_count": 21,
   "metadata": {},
   "outputs": [
    {
     "data": {
      "text/plain": [
       "False"
      ]
     },
     "execution_count": 21,
     "metadata": {},
     "output_type": "execute_result"
    }
   ],
   "source": [
    "miller_rabin_test(1000009, seed_maker(1000009, 4))"
   ]
  },
  {
   "cell_type": "code",
   "execution_count": 28,
   "metadata": {},
   "outputs": [
    {
     "data": {
      "text/plain": [
       "False"
      ]
     },
     "execution_count": 28,
     "metadata": {},
     "output_type": "execute_result"
    }
   ],
   "source": [
    "miller_rabin_test(15772929, seed_maker(15772929, 50))"
   ]
  },
  {
   "cell_type": "code",
   "execution_count": 23,
   "metadata": {},
   "outputs": [
    {
     "data": {
      "text/plain": [
       "True"
      ]
     },
     "execution_count": 23,
     "metadata": {},
     "output_type": "execute_result"
    }
   ],
   "source": [
    "miller_rabin_test(2 ** 19 - 1, seed_maker(2 ** 19 - 1, 3))"
   ]
  },
  {
   "cell_type": "code",
   "execution_count": 24,
   "metadata": {},
   "outputs": [
    {
     "data": {
      "text/plain": [
       "True"
      ]
     },
     "execution_count": 24,
     "metadata": {},
     "output_type": "execute_result"
    }
   ],
   "source": [
    "miller_rabin_test(2 ** 31 - 1, seed_maker(2 ** 31 - 1, 3))"
   ]
  }
 ],
 "metadata": {
  "kernelspec": {
   "display_name": "SageMath 9.0",
   "language": "sage",
   "name": "sagemath"
  },
  "language_info": {
   "codemirror_mode": {
    "name": "ipython",
    "version": 3
   },
   "file_extension": ".py",
   "mimetype": "text/x-python",
   "name": "python",
   "nbconvert_exporter": "python",
   "pygments_lexer": "ipython3",
   "version": "3.8.5"
  }
 },
 "nbformat": 4,
 "nbformat_minor": 4
}
