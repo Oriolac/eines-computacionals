{
 "cells": [
  {
   "cell_type": "markdown",
   "metadata": {},
   "source": [
    "# Problem 1\n",
    "### Elliptic Curve Arithmetic\n",
    "1) Write three programs for computing the negative of a point, the sum of two points and the double of a point, respectively.\n",
    "\n",
    "2) A scalar multiplication of a point P by an integer k, denoted kP or [k]P, is the sum"
   ]
  },
  {
   "cell_type": "code",
   "execution_count": 1,
   "metadata": {},
   "outputs": [],
   "source": [
    "import sage.rings.finite_rings.integer_mod_ring as zp"
   ]
  },
  {
   "cell_type": "code",
   "execution_count": 29,
   "metadata": {},
   "outputs": [],
   "source": [
    "class ECPoint:\n",
    "    \n",
    "    def __init__(self, ec, x, y, infinity=False):\n",
    "        self.ec = ec\n",
    "        self.x = x\n",
    "        self.y = y\n",
    "        self.infinity= infinity\n",
    "\n",
    "    def __str__(self):\n",
    "        if self.infinity:\n",
    "            return f'ECPoint(Infinity)'\n",
    "        return f'ECPoint({self.x}, {self.y})'\n",
    "    \n",
    "    def __repr__(self):\n",
    "        return self.__str__()\n",
    "    \n",
    "    \n",
    "    def negative(self):\n",
    "        if self.infinity:\n",
    "            return self\n",
    "        return ECPoint(self.ec, self.x, -self.y)\n",
    "    \n",
    "    \n",
    "    def __eq__(self, ecp):\n",
    "        return self.x == ecp.x and self.y == ecp.y\n",
    "    \n",
    "    def __add__(self, ecpoint):\n",
    "        assert self.ec == ecpoint.ec\n",
    "        if self.infinity:\n",
    "            return ecpoint\n",
    "        elif ecpoint.infinity:\n",
    "            return self\n",
    "        if self.x == ecpoint.x and self.y == -ecpoint.y:\n",
    "            return self.ec.infinity_point()\n",
    "        if self != ecpoint:\n",
    "            lam = (ecpoint.y - self.y) / (ecpoint.x - self.x)\n",
    "        else:\n",
    "            lam = (3 * self.x**2 + self.ec.a) / (2 * self.y)\n",
    "        x3 = lam ** 2 - self.x - ecpoint.x\n",
    "        return ECPoint(self.ec, x3, lam * (self.x - x3) - self.y)\n",
    "    \n",
    "    def __sub__(self, ecp):\n",
    "        return self + ecp.negative()\n",
    "    \n",
    "    def double(self):\n",
    "        return self + self\n",
    "    \n",
    "    def scalar_mult(self, k):\n",
    "        if k < 0:\n",
    "            return self.negative().scalar_mult(abs(k))\n",
    "        elif k == 0:\n",
    "            return self.ec.infinity_point()\n",
    "        chrs = \"{0:b}\".format(k)[1:]\n",
    "        res = self\n",
    "        for c in chrs:\n",
    "            if c == '0':\n",
    "                res = res.double()\n",
    "            else:\n",
    "                res = res.double() + self\n",
    "        return res\n",
    "        \n",
    "class EC:\n",
    "\n",
    "    def __init__(self,p, a, b, order=None):\n",
    "        assert 4 * a**3 + 27 * b**2 != 0\n",
    "        self.p = zp.IntegerModRing(p)\n",
    "        self.a = self.p(a)\n",
    "        self.b = self.p(b)\n",
    "        if order ==None:\n",
    "            self.order = EllipticCurve(self.p, [self.a, self.b]).order()\n",
    "        else:\n",
    "            self.order = order\n",
    "        \n",
    "    def liftX(self, x):\n",
    "        return ECPoint(self, x, sqrt(x**3 + self.a *x + self.b))\n",
    "    \n",
    "    def get_elem(self, x, y):\n",
    "        if y ** 2 != x**3 + self.a *x + self.b:\n",
    "            raise ValueError\n",
    "        return ECPoint(self, x, y)\n",
    "    \n",
    "    def infinity_point(self):\n",
    "        return ECPoint(self, None, None, True)\n",
    "    \n",
    "    def __max_t(self):\n",
    "        return abs(int(sqrt(int(self.p.order()), prec=10)))"
   ]
  },
  {
   "cell_type": "code",
   "execution_count": 3,
   "metadata": {},
   "outputs": [
    {
     "data": {
      "text/plain": [
       "True"
      ]
     },
     "execution_count": 3,
     "metadata": {},
     "output_type": "execute_result"
    }
   ],
   "source": [
    "ecfield = EC(19, 1, 3)\n",
    "p6 = ecfield.liftX(6)\n",
    "(ecfield.liftX(6) + ecfield.infinity_point()) == ecfield.liftX(6)"
   ]
  },
  {
   "cell_type": "code",
   "execution_count": 4,
   "metadata": {},
   "outputs": [
    {
     "data": {
      "text/plain": [
       "True"
      ]
     },
     "execution_count": 4,
     "metadata": {},
     "output_type": "execute_result"
    }
   ],
   "source": [
    "p6 == ecfield.liftX(6)"
   ]
  },
  {
   "cell_type": "code",
   "execution_count": 5,
   "metadata": {},
   "outputs": [
    {
     "data": {
      "text/plain": [
       "ECPoint(16, 7)"
      ]
     },
     "execution_count": 5,
     "metadata": {},
     "output_type": "execute_result"
    }
   ],
   "source": [
    "p6.double()"
   ]
  },
  {
   "cell_type": "code",
   "execution_count": 6,
   "metadata": {},
   "outputs": [
    {
     "data": {
      "text/plain": [
       "ECPoint(Infinity)"
      ]
     },
     "execution_count": 6,
     "metadata": {},
     "output_type": "execute_result"
    }
   ],
   "source": [
    "p6 - ecfield.liftX(6)"
   ]
  },
  {
   "cell_type": "code",
   "execution_count": 7,
   "metadata": {},
   "outputs": [
    {
     "data": {
      "text/plain": [
       "ECPoint(13, 3)"
      ]
     },
     "execution_count": 7,
     "metadata": {},
     "output_type": "execute_result"
    }
   ],
   "source": [
    "p6 + ecfield.liftX(1)"
   ]
  },
  {
   "cell_type": "code",
   "execution_count": 8,
   "metadata": {},
   "outputs": [
    {
     "data": {
      "text/plain": [
       "True"
      ]
     },
     "execution_count": 8,
     "metadata": {},
     "output_type": "execute_result"
    }
   ],
   "source": [
    "p6.scalar_mult(2) == p6.double()"
   ]
  },
  {
   "cell_type": "code",
   "execution_count": 9,
   "metadata": {},
   "outputs": [
    {
     "data": {
      "text/plain": [
       "True"
      ]
     },
     "execution_count": 9,
     "metadata": {},
     "output_type": "execute_result"
    }
   ],
   "source": [
    "p6.double() + p6 == p6.scalar_mult(3)"
   ]
  },
  {
   "cell_type": "code",
   "execution_count": 10,
   "metadata": {},
   "outputs": [
    {
     "data": {
      "text/plain": [
       "True"
      ]
     },
     "execution_count": 10,
     "metadata": {},
     "output_type": "execute_result"
    }
   ],
   "source": [
    "p6.negative().double() == p6.scalar_mult(-2)"
   ]
  },
  {
   "cell_type": "markdown",
   "metadata": {},
   "source": [
    "# Problem 2\n",
    "### Elliptic Curve Discrete Logarithm Problem (ECDLP)"
   ]
  },
  {
   "cell_type": "markdown",
   "metadata": {},
   "source": [
    "1) Write a program that solves the ECDLP in cyclic subgroups of E(Fp) using the\n",
    "Baby Step – Giant Step method."
   ]
  },
  {
   "cell_type": "code",
   "execution_count": 102,
   "metadata": {},
   "outputs": [
    {
     "data": {
      "text/plain": [
       "True"
      ]
     },
     "execution_count": 102,
     "metadata": {},
     "output_type": "execute_result"
    }
   ],
   "source": [
    "sqrtrem = lambda x: Integer(x).sqrtrem()\n",
    "sqrt_up = lambda x: sqrtrem(x)[0] + int(sqrtrem(x)[1] > 0)\n",
    "def shanks_ec(ring, g, res):\n",
    "    def get_x(i, j):\n",
    "        return i*s - j\n",
    "    s = sqrt_up(ring.order)\n",
    "    bs = [(res + g.scalar_mult(j), j)for j in range(0, s+1)]\n",
    "    gs = [(g.scalar_mult(i*s), i) for i in range(0, s+1)]\n",
    "    reslist = []\n",
    "    for bi in bs:\n",
    "        for gi in gs:\n",
    "            if bi[0] == gi[0]:\n",
    "                reslist.append([gi[1], bi[1]])\n",
    "    return list(map(lambda x: get_x(x[0], x[1]), reslist))[0]\n",
    "ecu = EC(p=19, a=2, b=2)\n",
    "elem = ecu.liftX(3)\n",
    "res = elem.scalar_mult(5)\n",
    "shanks_ec(ecu, elem, res) == 5"
   ]
  },
  {
   "cell_type": "code",
   "execution_count": 106,
   "metadata": {},
   "outputs": [
    {
     "name": "stdout",
     "output_type": "stream",
     "text": [
      "x: 74\n",
      "ECPoint(23, 12) ^ 74 = ECPoint(254, 231)\n"
     ]
    }
   ],
   "source": [
    "p = 311\n",
    "ecu = EC(p=p, a=5, b=-9, order=103)\n",
    "gen = ecu.get_elem(23, 12)\n",
    "res = ecu.get_elem(254, 231)\n",
    "x = shanks_ec(ecu, gen, res)\n",
    "print(\"x:\", x)\n",
    "print(f'{gen} ^ {x} =',gen.scalar_mult(x))"
   ]
  }
 ],
 "metadata": {
  "kernelspec": {
   "display_name": "SageMath 9.0",
   "language": "sage",
   "name": "sagemath"
  },
  "language_info": {
   "codemirror_mode": {
    "name": "ipython",
    "version": 3
   },
   "file_extension": ".py",
   "mimetype": "text/x-python",
   "name": "python",
   "nbconvert_exporter": "python",
   "pygments_lexer": "ipython3",
   "version": "3.8.5"
  }
 },
 "nbformat": 4,
 "nbformat_minor": 4
}
