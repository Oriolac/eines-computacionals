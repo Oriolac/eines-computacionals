{
 "cells": [
  {
   "cell_type": "markdown",
   "metadata": {},
   "source": [
    "# Exercice 1\n",
    "Write a program to perform the division algorithm. Compute the quotient and remainder q, r for (a, b) = (103, 11)."
   ]
  },
  {
   "cell_type": "code",
   "execution_count": 19,
   "metadata": {},
   "outputs": [],
   "source": [
    "def division(a: int, b: int):\n",
    "    q = 0\n",
    "    while a >= b:\n",
    "        a -= b\n",
    "        q += 1\n",
    "    return q, a"
   ]
  },
  {
   "cell_type": "markdown",
   "metadata": {},
   "source": [
    "Write a program to perform trial division to find the prime factors of a given\n",
    "number n."
   ]
  },
  {
   "cell_type": "code",
   "execution_count": 21,
   "metadata": {},
   "outputs": [],
   "source": [
    "def trial_division(n: int):\n",
    "    for i in range(2, int(n/2) + 1):\n",
    "        if n % i == 0:\n",
    "            return False\n",
    "    return True"
   ]
  },
  {
   "cell_type": "markdown",
   "metadata": {},
   "source": [
    "Find the smallest prime number larger than 10010."
   ]
  },
  {
   "cell_type": "code",
   "execution_count": 22,
   "metadata": {},
   "outputs": [],
   "source": [
    "def smallest_prime_number(min:int):\n",
    "    for i in range(min+1, 10010**2):\n",
    "        if trial_division(i):\n",
    "            return i"
   ]
  },
  {
   "cell_type": "code",
   "execution_count": 23,
   "metadata": {},
   "outputs": [
    {
     "name": "stdout",
     "output_type": "stream",
     "text": [
      "10037\n"
     ]
    }
   ],
   "source": [
    "print(smallest_prime_number(10010))"
   ]
  },
  {
   "cell_type": "markdown",
   "metadata": {},
   "source": [
    "### Problem 2\n",
    "Write a program to perform the Euclidean algorithm. Return as an output also\n",
    "the number n of steps needed for the computation."
   ]
  },
  {
   "cell_type": "code",
   "execution_count": 24,
   "metadata": {},
   "outputs": [],
   "source": [
    "def euclidean(a: int, b: int):\n",
    "    if a % b == 0:\n",
    "        if b == 1:\n",
    "            return 1, 1\n",
    "        else:\n",
    "            return int(a / b), 1\n",
    "    else:\n",
    "        res = euclidean(b, a % b)\n",
    "        return res[0], res[1] + 1"
   ]
  },
  {
   "cell_type": "markdown",
   "metadata": {},
   "source": [
    "Use your program to compute gcd(a, b) for the following pairs of integers a, b (all\n",
    "of them have comparable size):"
   ]
  },
  {
   "cell_type": "code",
   "execution_count": 26,
   "metadata": {},
   "outputs": [
    {
     "name": "stdout",
     "output_type": "stream",
     "text": [
      "(1, 23)\n",
      "(1, 49)\n",
      "(1, 2)\n"
     ]
    }
   ],
   "source": [
    "print(euclidean(487669403177, 28736540321))\n",
    "print(euclidean(20365011074, 12586269025))\n",
    "print(euclidean(2**35-1, 2**34-1))"
   ]
  },
  {
   "cell_type": "markdown",
   "metadata": {},
   "source": [
    "### Problem 3"
   ]
  },
  {
   "cell_type": "markdown",
   "metadata": {},
   "source": [
    "Show (3) is true (use induction on i)"
   ]
  },
  {
   "cell_type": "markdown",
   "metadata": {},
   "source": [
    "Write a program to perform the Extended Euclidean Algorithm. Return as an\n",
    "output also the number n of steps needed for the computation."
   ]
  },
  {
   "cell_type": "code",
   "execution_count": 30,
   "metadata": {},
   "outputs": [],
   "source": [
    "def extended_euclidean(a: int, b: int):\n",
    "    prevx, x = 1, 0\n",
    "    prevy, y = 0, 1\n",
    "    steps = 0\n",
    "    while b:\n",
    "        q = int(a / b)\n",
    "        x, prevx = prevx - q * x, x\n",
    "        y, prevy = prevy - q * y, y\n",
    "        a, b = b, a % b\n",
    "        steps += 1\n",
    "    return a, prevx, prevy, steps"
   ]
  },
  {
   "cell_type": "code",
   "execution_count": 36,
   "metadata": {},
   "outputs": [
    {
     "name": "stdout",
     "output_type": "stream",
     "text": [
      "2 * 11 + (-3*7) = 1; steps: 4\n",
      "-2458818059 * 487669403177 + (41727024964*28736540321) = 1; steps: 23\n",
      "-4807526976 * 20365011074 + (7778742049*12586269025) = 1; steps: 49\n",
      "1 * 34359738367 + (-2*17179869183) = 1; steps: 2\n"
     ]
    }
   ],
   "source": [
    "def xtest(a, b):\n",
    "    d, s, t, st = extended_euclidean(a, b)\n",
    "    print(f\"{s} * {a} + ({t}*{b}) = {d}; steps: {st}\")\n",
    "xtest(11, 7)\n",
    "xtest(487669403177, 28736540321)\n",
    "xtest(20365011074, 12586269025)\n",
    "xtest(2 ** 35 - 1, 2 ** 34 - 1)"
   ]
  },
  {
   "cell_type": "markdown",
   "metadata": {},
   "source": [
    "### Problem 4"
   ]
  },
  {
   "cell_type": "code",
   "execution_count": 34,
   "metadata": {},
   "outputs": [
    {
     "name": "stdout",
     "output_type": "stream",
     "text": [
      "inverse of 7 (mod 11) = 8\n",
      "inverse of 28736540321 (mod 487669403177) = 41727024964\n",
      "inverse of 12586269025 (mod 20365011074) = 7778742049\n"
     ]
    }
   ],
   "source": [
    "def inverse(m, a):\n",
    "    _, _, t, _ = extended_euclidean(m, a)\n",
    "    if t < 0:\n",
    "        t = t + m\n",
    "    print(f\"inverse of {a} (mod {m}) = {t}\")\n",
    "inverse(11, 7)\n",
    "inverse(487669403177, 28736540321)\n",
    "inverse(20365011074, 12586269025)"
   ]
  },
  {
   "cell_type": "markdown",
   "metadata": {},
   "source": [
    "## Problem 5\n",
    "Can you guess the values of a, b so that n is the largest possible? Do some research\n",
    "to show that the Euclidean Algorithm to compute gcd(a, b) with a > b takes at\n",
    "most 5 log10(b) + 1 steps."
   ]
  }
 ],
 "metadata": {
  "kernelspec": {
   "display_name": "Python 3",
   "language": "python",
   "name": "python3"
  },
  "language_info": {
   "codemirror_mode": {
    "name": "ipython",
    "version": 3
   },
   "file_extension": ".py",
   "mimetype": "text/x-python",
   "name": "python",
   "nbconvert_exporter": "python",
   "pygments_lexer": "ipython3",
   "version": "3.8.5"
  }
 },
 "nbformat": 4,
 "nbformat_minor": 4
}
