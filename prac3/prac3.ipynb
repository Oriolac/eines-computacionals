{
 "cells": [
  {
   "cell_type": "markdown",
   "metadata": {},
   "source": [
    "# Chinese Remainder Theorem"
   ]
  },
  {
   "cell_type": "markdown",
   "metadata": {},
   "source": [
    "### Problem 1.\n",
    "Suppose we are given two sets of positive integers: {n1, . . . , nk} and\n",
    "{a1, . . . , ak} such that the ni are coprime: gcd(ni\n",
    ", nj ) = 1 for all i 6= j. In this situation, the Chinese Remainder Theorem provides a solution to the simultaneous modular\n",
    "equations"
   ]
  },
  {
   "cell_type": "markdown",
   "metadata": {},
   "source": [
    "Write a function to find x in Sage or Python. Use the code you used in the Lab\n",
    "List 1 to compute the modular inverse in step 2 above."
   ]
  },
  {
   "cell_type": "code",
   "execution_count": 53,
   "metadata": {},
   "outputs": [],
   "source": [
    "from typing import List\n",
    "from functools import reduce"
   ]
  },
  {
   "cell_type": "code",
   "execution_count": 24,
   "metadata": {},
   "outputs": [],
   "source": [
    "# Needed functions\n",
    "\n",
    "def inverse(m, a):\n",
    "    _, _, t, _ = extended_euclidean(m, a)\n",
    "    if t < 0:\n",
    "        t = t + m\n",
    "    return t\n",
    "    \n",
    "def extended_euclidean(a: int, b: int):\n",
    "    prevx, x = 1, 0\n",
    "    prevy, y = 0, 1\n",
    "    steps = 0\n",
    "    while b:\n",
    "        q = int(a / b)\n",
    "        x, prevx = prevx - q * x, x\n",
    "        y, prevy = prevy - q * y, y\n",
    "        a, b = b, a % b\n",
    "        steps += 1\n",
    "    return a, prevx, prevy, steps"
   ]
  },
  {
   "cell_type": "code",
   "execution_count": 48,
   "metadata": {},
   "outputs": [],
   "source": [
    "def chinese_remainder(ns: List[int], alist = List[int]):\n",
    "    N = reduce(lambda x, y: x * y, ns)\n",
    "    ys = [0] * len(ns)\n",
    "    for i, n in enumerate(ns):\n",
    "        ys[i] = inverse(n, N / n)\n",
    "        print(f\"inverse of N/n ({N/n}) mod {n} = {ys[i]}\")\n",
    "    print(alist, ns, ys)\n",
    "    return sum(map(lambda x: x[0] * (N / x[1]) * x[2], zip(alist, ns, ys)))"
   ]
  },
  {
   "cell_type": "code",
   "execution_count": 57,
   "metadata": {},
   "outputs": [
    {
     "name": "stdout",
     "output_type": "stream",
     "text": [
      "inverse of N/n (7.0) mod 8 = 7\n",
      "inverse of N/n (8.0) mod 7 = 1\n",
      "[2, 5] [8, 7] [7, 1]\n"
     ]
    },
    {
     "data": {
      "text/plain": [
       "138.0"
      ]
     },
     "execution_count": 57,
     "metadata": {},
     "output_type": "execute_result"
    }
   ],
   "source": [
    "chinese_remainder([8,7], [2,5])"
   ]
  },
  {
   "cell_type": "markdown",
   "metadata": {},
   "source": [
    "Try your program for {n1 = 19, n2 = 18, n3 = 17} and {a1 = 10, a2 = 12, a3 = 14}.\n",
    "Find the smallest positive x in this case"
   ]
  },
  {
   "cell_type": "code",
   "execution_count": 50,
   "metadata": {},
   "outputs": [
    {
     "name": "stdout",
     "output_type": "stream",
     "text": [
      "inverse of N/n (306.0) mod 19 = 10\n",
      "inverse of N/n (323.0) mod 18 = 17\n",
      "inverse of N/n (342.0) mod 17 = 9\n",
      "[10, 12, 14] [19, 18, 17] [10, 17, 9]\n"
     ]
    },
    {
     "data": {
      "text/plain": [
       "139584.0"
      ]
     },
     "execution_count": 50,
     "metadata": {},
     "output_type": "execute_result"
    }
   ],
   "source": [
    "\n",
    "x = chinese_remainder([19,18,17], [10,12,14])\n",
    "x"
   ]
  },
  {
   "cell_type": "code",
   "execution_count": 59,
   "metadata": {},
   "outputs": [
    {
     "data": {
      "text/plain": [
       "[10.0, 12.0, 14.0]"
      ]
     },
     "execution_count": 59,
     "metadata": {},
     "output_type": "execute_result"
    }
   ],
   "source": [
    "list(map(lambda y: x % y, [19,18,17]))"
   ]
  },
  {
   "cell_type": "markdown",
   "metadata": {},
   "source": [
    "### Problem 2."
   ]
  },
  {
   "cell_type": "markdown",
   "metadata": {},
   "source": [
    "Rabin encryption. The security of Rabin’s cryptosystem is similar to\n",
    "RSA’s and it relies on the hardness of factoring an integer which is the product of two\n",
    "primes."
   ]
  },
  {
   "cell_type": "code",
   "execution_count": 64,
   "metadata": {},
   "outputs": [],
   "source": [
    "def encrypt(p, q, m):\n",
    "    n = p * q\n",
    "    return m ** 2 % n"
   ]
  },
  {
   "cell_type": "code",
   "execution_count": 97,
   "metadata": {},
   "outputs": [
    {
     "data": {
      "text/plain": [
       "7"
      ]
     },
     "execution_count": 97,
     "metadata": {},
     "output_type": "execute_result"
    }
   ],
   "source": [
    "encrypt(3, 3, 4)"
   ]
  },
  {
   "cell_type": "code",
   "execution_count": 95,
   "metadata": {},
   "outputs": [],
   "source": [
    "def decrypt(p, q, c):\n",
    "    n = p * q\n",
    "    mp = c**((p-1)/4) % p\n",
    "    mq = c**((q-1)/4) % q\n",
    "    yp, yq = extended_euclidean(p, q)[1:3]\n",
    "    m1 = (yp * p * mq + yq*q*mp) %n\n",
    "    m2 = n - m1\n",
    "    m3 = (yp * p * mq - yq*q*mp) %n\n",
    "    m4 = n - m3\n",
    "    return m1, m2, m3, m4"
   ]
  },
  {
   "cell_type": "code",
   "execution_count": null,
   "metadata": {},
   "outputs": [],
   "source": [
    "a = "
   ]
  },
  {
   "cell_type": "code",
   "execution_count": 98,
   "metadata": {},
   "outputs": [
    {
     "data": {
      "text/plain": [
       "(7.937253933193772, 1.0627460668062279, 1.0627460668062279, 7.937253933193772)"
      ]
     },
     "execution_count": 98,
     "metadata": {},
     "output_type": "execute_result"
    }
   ],
   "source": [
    "decrypt(3,3,7)"
   ]
  }
 ],
 "metadata": {
  "kernelspec": {
   "display_name": "Python 3",
   "language": "python",
   "name": "python3"
  },
  "language_info": {
   "codemirror_mode": {
    "name": "ipython",
    "version": 3
   },
   "file_extension": ".py",
   "mimetype": "text/x-python",
   "name": "python",
   "nbconvert_exporter": "python",
   "pygments_lexer": "ipython3",
   "version": "3.8.5"
  }
 },
 "nbformat": 4,
 "nbformat_minor": 4
}
