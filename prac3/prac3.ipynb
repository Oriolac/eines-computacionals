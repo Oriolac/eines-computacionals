{
 "cells": [
  {
   "cell_type": "markdown",
   "metadata": {},
   "source": [
    "# Chinese Remainder Theorem"
   ]
  },
  {
   "cell_type": "markdown",
   "metadata": {},
   "source": [
    "### Problem 1.\n",
    "Suppose we are given two sets of positive integers: {n1, . . . , nk} and\n",
    "{a1, . . . , ak} such that the ni are coprime: gcd(ni\n",
    ", nj ) = 1 for all i 6= j. In this situation, the Chinese Remainder Theorem provides a solution to the simultaneous modular\n",
    "equations\n",
    "\n",
    "\n",
    "Write a function to find x in Sage or Python. Use the code you used in the Lab\n",
    "List 1 to compute the modular inverse in step 2 above."
   ]
  },
  {
   "cell_type": "code",
   "execution_count": 2,
   "metadata": {},
   "outputs": [],
   "source": [
    "from typing import List\n",
    "from functools import reduce\n",
    "import sage.rings.finite_rings.integer_mod_ring as zp"
   ]
  },
  {
   "cell_type": "code",
   "execution_count": 3,
   "metadata": {},
   "outputs": [],
   "source": [
    "def chinese_remainder(nlist, alist):\n",
    "    N = prod(nlist)\n",
    "    ylist = []\n",
    "    ylist = [zp.IntegerModRing(ni)(1 / (N / ni)) for ni in nlist]\n",
    "    return sum(map(lambda ai, ni, yi: ai * (N / ni) * yi, map(Integer,alist), map(Integer,nlist), map(Integer,ylist)))\n"
   ]
  },
  {
   "cell_type": "code",
   "execution_count": 4,
   "metadata": {},
   "outputs": [
    {
     "data": {
      "text/plain": [
       "138"
      ]
     },
     "execution_count": 4,
     "metadata": {},
     "output_type": "execute_result"
    }
   ],
   "source": [
    "chinese_remainder([8,7], [2,5])"
   ]
  },
  {
   "cell_type": "code",
   "execution_count": 6,
   "metadata": {
    "scrolled": true
   },
   "outputs": [
    {
     "data": {
      "text/plain": [
       "48"
      ]
     },
     "execution_count": 6,
     "metadata": {},
     "output_type": "execute_result"
    }
   ],
   "source": [
    "nlist = [19, 18, 17]\n",
    "alist = [10, 12, 14]\n",
    "chinese_remainder(nlist, alist) % reduce(lambda x,y: x*y, nlist)"
   ]
  },
  {
   "cell_type": "markdown",
   "metadata": {},
   "source": [
    "# Problem 2\n",
    "Rabin encryption. The security of Rabin’s cryptosystem is similar to\n",
    "RSA’s and it relies on the hardness of factoring an integer which is the product of two\n",
    "primes."
   ]
  },
  {
   "cell_type": "code",
   "execution_count": 5,
   "metadata": {},
   "outputs": [],
   "source": [
    "def encrypt_rabin(p,q, message):\n",
    "    z4 = zp.IntegerModRing(4)\n",
    "    if z4(p) != 3 or z4(q) != 3:\n",
    "        raise ValueError\n",
    "    n = p * q\n",
    "    zn = zp.IntegerModRing(n)\n",
    "    return zn(message ** 2)"
   ]
  },
  {
   "cell_type": "code",
   "execution_count": 6,
   "metadata": {},
   "outputs": [
    {
     "data": {
      "text/plain": [
       "25"
      ]
     },
     "execution_count": 6,
     "metadata": {},
     "output_type": "execute_result"
    }
   ],
   "source": [
    "encrypt_rabin(7, 15, 5)"
   ]
  },
  {
   "cell_type": "code",
   "execution_count": 7,
   "metadata": {},
   "outputs": [],
   "source": [
    "def decrypt_rabin(p,q,c):\n",
    "    n = p*q\n",
    "    zn = zp.IntegerModRing(n)\n",
    "    zpp = zp.IntegerModRing(p)\n",
    "    zqq = zp.IntegerModRing(q)\n",
    "    mp = zpp(c ** ((p + 1) / 4))\n",
    "    mq = zqq(c ** ((q + 1) / 4))\n",
    "    d, yp, yq = xgcd(p, q)\n",
    "    m1 = zn(yp*p*Integer(mq) + yq*q*Integer(mp))\n",
    "    m2 = n - Integer(m1)\n",
    "    m3 = zn(Integer(yp)*p*Integer(mq) - Integer(yq)*q*Integer(mp))\n",
    "    m4 = n - Integer(m3)\n",
    "    return m1, m2, m3, m4"
   ]
  },
  {
   "cell_type": "code",
   "execution_count": 8,
   "metadata": {},
   "outputs": [
    {
     "data": {
      "text/plain": [
       "(100, 5, 40, 65)"
      ]
     },
     "execution_count": 8,
     "metadata": {},
     "output_type": "execute_result"
    }
   ],
   "source": [
    "decrypt_rabin(7,15, 25)"
   ]
  },
  {
   "cell_type": "code",
   "execution_count": null,
   "metadata": {},
   "outputs": [],
   "source": []
  }
 ],
 "metadata": {
  "kernelspec": {
   "display_name": "SageMath 9.0",
   "language": "sage",
   "name": "sagemath"
  },
  "language_info": {
   "codemirror_mode": {
    "name": "ipython",
    "version": 3
   },
   "file_extension": ".py",
   "mimetype": "text/x-python",
   "name": "python",
   "nbconvert_exporter": "python",
   "pygments_lexer": "ipython3",
   "version": "3.8.5"
  }
 },
 "nbformat": 4,
 "nbformat_minor": 4
}
