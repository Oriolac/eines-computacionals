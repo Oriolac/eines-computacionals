{
 "cells": [
  {
   "cell_type": "code",
   "execution_count": 2,
   "metadata": {},
   "outputs": [],
   "source": [
    "def division(divident: int, divisor: int):\n",
    "    quocient: int = 0\n",
    "    while divisor <= divident:\n",
    "        divident -= divisor\n",
    "        quocient += 1\n",
    "    remainder = divident\n",
    "    return quocient, remainder"
   ]
  },
  {
   "cell_type": "code",
   "execution_count": 3,
   "metadata": {},
   "outputs": [],
   "source": [
    "def trial_division(n: int):\n",
    "    for p in range(2, int(n / 2) + 1):\n",
    "        q, r = division(n, p)\n",
    "        if r == 0:\n",
    "            return p, q\n",
    "    return None\n"
   ]
  },
  {
   "cell_type": "code",
   "execution_count": 4,
   "metadata": {},
   "outputs": [],
   "source": [
    "def smallest_prime_number(threshold: int):\n",
    "    for i in range(threshold, threshold * 2):\n",
    "        if trial_division(i) is None:\n",
    "            return i\n",
    "    return smallest_prime_number(threshold * 2)"
   ]
  },
  {
   "cell_type": "code",
   "execution_count": 5,
   "metadata": {},
   "outputs": [],
   "source": [
    "def euclidian(a: int, b: int):\n",
    "    a, b = division(a, b)\n",
    "    print(a, b)\n",
    "    if b == 0:\n",
    "        return a\n",
    "    return euclidian(a, b)"
   ]
  },
  {
   "cell_type": "code",
   "execution_count": 8,
   "metadata": {},
   "outputs": [
    {
     "data": {
      "text/plain": [
       "5"
      ]
     },
     "execution_count": 8,
     "metadata": {},
     "output_type": "execute_result"
    }
   ],
   "source": [
    "gcd(515,2005)"
   ]
  }
 ],
 "metadata": {
  "kernelspec": {
   "display_name": "SageMath 9.1",
   "language": "sage",
   "name": "sagemath"
  },
  "language_info": {
   "codemirror_mode": {
    "name": "ipython",
    "version": 3
   },
   "file_extension": ".py",
   "mimetype": "text/x-python",
   "name": "python",
   "nbconvert_exporter": "python",
   "pygments_lexer": "ipython3",
   "version": "3.8.5"
  }
 },
 "nbformat": 4,
 "nbformat_minor": 4
}
