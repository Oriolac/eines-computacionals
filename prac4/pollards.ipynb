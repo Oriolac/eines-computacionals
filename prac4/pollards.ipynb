{
 "cells": [
  {
   "cell_type": "code",
   "execution_count": 6,
   "metadata": {},
   "outputs": [],
   "source": []
  },
  {
   "cell_type": "code",
   "execution_count": 7,
   "metadata": {},
   "outputs": [],
   "source": [
    "def fermat(n):\n",
    "    k = int(sqrt(n))+1\n",
    "    h = k ** 2 - n\n",
    "    sh = sqrt(h)\n",
    "    it = 0\n",
    "    while sh != int(sh):\n",
    "        k = k + 1\n",
    "        h = k ** 2 -n\n",
    "        sh = sqrt(h)\n",
    "        it += 1\n",
    "    return k - sh, k + sh "
   ]
  },
  {
   "cell_type": "code",
   "execution_count": 12,
   "metadata": {},
   "outputs": [
    {
     "data": {
      "text/plain": [
       "(61, 67)"
      ]
     },
     "execution_count": 12,
     "metadata": {},
     "output_type": "execute_result"
    }
   ],
   "source": [
    "n = 4087\n",
    "e = 7\n",
    "r = factorial(5)\n",
    "a = 2\n",
    "fermat(n)"
   ]
  },
  {
   "cell_type": "code",
   "execution_count": 13,
   "metadata": {},
   "outputs": [],
   "source": [
    "def power(a, b, c) : \n",
    "    if (a == 0): \n",
    "        return 0\n",
    "    if (b == 0): \n",
    "        return 1\n",
    "    if (b % 2 == 0): \n",
    "        y = power(a, b / 2, c) \n",
    "        y = (y * y) % c \n",
    "    else: \n",
    "        y = a % c\n",
    "        y = (y * power(a, b - 1,  c) % c) % c \n",
    "    return ((y + c) % c) "
   ]
  },
  {
   "cell_type": "code",
   "execution_count": 19,
   "metadata": {
    "scrolled": true
   },
   "outputs": [
    {
     "data": {
      "text/plain": [
       "1220"
      ]
     },
     "execution_count": 19,
     "metadata": {},
     "output_type": "execute_result"
    }
   ],
   "source": [
    "h = power(a, r, n) - 1\n",
    "h"
   ]
  },
  {
   "cell_type": "code",
   "execution_count": 20,
   "metadata": {},
   "outputs": [],
   "source": [
    "def extended_euclidean(a: int, b: int):\n",
    "    prevx, x = 1, 0\n",
    "    prevy, y = 0, 1\n",
    "    steps = 0\n",
    "    while b:\n",
    "        q = int(a / b)\n",
    "        x, prevx = prevx - q * x, x\n",
    "        y, prevy = prevy - q * y, y\n",
    "        a, b = b, a % b\n",
    "        steps += 1\n",
    "    return a, prevx, prevy, steps"
   ]
  },
  {
   "cell_type": "code",
   "execution_count": 22,
   "metadata": {},
   "outputs": [
    {
     "data": {
      "text/plain": [
       "(61, 6, -7, 4)"
      ]
     },
     "execution_count": 22,
     "metadata": {},
     "output_type": "execute_result"
    }
   ],
   "source": [
    "extended_euclidean(1220, 1037)"
   ]
  },
  {
   "cell_type": "code",
   "execution_count": null,
   "metadata": {},
   "outputs": [],
   "source": [
    "# As g != 1 and g != n then g = p, n/p = 1 = 67"
   ]
  }
 ],
 "metadata": {
  "kernelspec": {
   "display_name": "SageMath 9.1",
   "language": "sage",
   "name": "sagemath"
  },
  "language_info": {
   "codemirror_mode": {
    "name": "ipython",
    "version": 3
   },
   "file_extension": ".py",
   "mimetype": "text/x-python",
   "name": "python",
   "nbconvert_exporter": "python",
   "pygments_lexer": "ipython3",
   "version": "3.8.5"
  }
 },
 "nbformat": 4,
 "nbformat_minor": 4
}
