{
 "cells": [
  {
   "cell_type": "code",
   "execution_count": 3,
   "metadata": {},
   "outputs": [],
   "source": [
    "import sage.rings.finite_rings.integer_mod_ring as zp"
   ]
  },
  {
   "cell_type": "markdown",
   "metadata": {},
   "source": [
    "# Problem 1"
   ]
  },
  {
   "cell_type": "code",
   "execution_count": 4,
   "metadata": {},
   "outputs": [
    {
     "name": "stdout",
     "output_type": "stream",
     "text": [
      "2698905765384423 312\n"
     ]
    }
   ],
   "source": [
    "n = 135828482760150159223553231524924630769084223558056259571\n",
    "e = 17\n",
    "k = int(sqrt(n))+1\n",
    "h = k ** 2 - n\n",
    "sh = sqrt(h)\n",
    "it = 0\n",
    "while sh != int(sh):\n",
    "    k = k + 1\n",
    "    h = k ** 2 -n\n",
    "    sh = sqrt(h)\n",
    "    it += 1\n",
    "print(sh, it)"
   ]
  },
  {
   "cell_type": "code",
   "execution_count": 5,
   "metadata": {},
   "outputs": [
    {
     "name": "stdout",
     "output_type": "stream",
     "text": [
      "11654547728680304742709045027 11654547728685702554239813873\n"
     ]
    }
   ],
   "source": [
    "p = k - sh\n",
    "q = k + sh\n",
    "if p * q == n:\n",
    "    print(p, q)"
   ]
  },
  {
   "cell_type": "code",
   "execution_count": 6,
   "metadata": {},
   "outputs": [
    {
     "data": {
      "text/plain": [
       "11654547728680304742709045027 * 11654547728685702554239813873"
      ]
     },
     "execution_count": 6,
     "metadata": {},
     "output_type": "execute_result"
    }
   ],
   "source": [
    "factor(n)"
   ]
  },
  {
   "cell_type": "code",
   "execution_count": 7,
   "metadata": {},
   "outputs": [
    {
     "data": {
      "text/plain": [
       "135828482760150159223553231501615535311718216261107400672"
      ]
     },
     "execution_count": 7,
     "metadata": {},
     "output_type": "execute_result"
    }
   ],
   "source": [
    "phi = (p-1) * (q-1)\n",
    "phi"
   ]
  },
  {
   "cell_type": "code",
   "execution_count": 8,
   "metadata": {},
   "outputs": [],
   "source": [
    "def extended_euclidean(a: int, b: int):\n",
    "    prevx, x = 1, 0\n",
    "    prevy, y = 0, 1\n",
    "    steps = 0\n",
    "    while b:\n",
    "        q = int(a / b)\n",
    "        x, prevx = prevx - q * x, x\n",
    "        y, prevy = prevy - q * y, y\n",
    "        a, b = b, a % b\n",
    "        steps += 1\n",
    "    return a, prevx, prevy, steps"
   ]
  },
  {
   "cell_type": "code",
   "execution_count": 9,
   "metadata": {},
   "outputs": [
    {
     "name": "stdout",
     "output_type": "stream",
     "text": [
      "(1, 8, -63919286004776545516966226588995546029043866475815247375, 4)\n"
     ]
    },
    {
     "data": {
      "text/plain": [
       "71909196755373613706587004935929084740040357082241012196"
      ]
     },
     "execution_count": 9,
     "metadata": {},
     "output_type": "execute_result"
    }
   ],
   "source": [
    "private_key = extended_euclidean(phi, e)\n",
    "print(private_key)\n",
    "private_key = (private_key[2] + n) % n\n",
    "private_key"
   ]
  },
  {
   "cell_type": "code",
   "execution_count": 10,
   "metadata": {},
   "outputs": [],
   "source": [
    "c = 94600282655101343031930533427672565665615053708288843906"
   ]
  },
  {
   "cell_type": "code",
   "execution_count": 11,
   "metadata": {},
   "outputs": [],
   "source": [
    "def power(a, b, c) : \n",
    "    if (a == 0): \n",
    "        return 0\n",
    "    if (b == 0): \n",
    "        return 1\n",
    "    if (b % 2 == 0): \n",
    "        y = power(a, b / 2, c) \n",
    "        y = (y * y) % c \n",
    "    else: \n",
    "        y = a % c\n",
    "        y = (y * power(a, b - 1,  c) % c) % c \n",
    "    return ((y + c) % c) "
   ]
  },
  {
   "cell_type": "code",
   "execution_count": 12,
   "metadata": {},
   "outputs": [
    {
     "data": {
      "text/plain": [
       "127665184246838807023813032409674945069287916981605687354"
      ]
     },
     "execution_count": 12,
     "metadata": {},
     "output_type": "execute_result"
    }
   ],
   "source": [
    "m =power(c, private_key, n)\n",
    "m"
   ]
  },
  {
   "cell_type": "code",
   "execution_count": 16,
   "metadata": {},
   "outputs": [],
   "source": [
    "zn = zp.IntegerModRing(n)\n",
    "zphi = zp.IntegerModRing(phi)"
   ]
  },
  {
   "cell_type": "code",
   "execution_count": 17,
   "metadata": {},
   "outputs": [
    {
     "data": {
      "text/plain": [
       "71909196755373613706587004912619989282674349785292153297"
      ]
     },
     "execution_count": 17,
     "metadata": {},
     "output_type": "execute_result"
    }
   ],
   "source": [
    "d = zphi(1 / e)\n",
    "d"
   ]
  },
  {
   "cell_type": "code",
   "execution_count": 18,
   "metadata": {},
   "outputs": [
    {
     "data": {
      "text/plain": [
       "77696984857868698284726966827368716965847773687873717284"
      ]
     },
     "execution_count": 18,
     "metadata": {},
     "output_type": "execute_result"
    }
   ],
   "source": [
    "m =power(int(c), int(d), int(n))\n",
    "m"
   ]
  },
  {
   "cell_type": "code",
   "execution_count": 19,
   "metadata": {},
   "outputs": [],
   "source": [
    "def tochar(m):\n",
    "    res = []\n",
    "    while m != 0:\n",
    "        res += [chr(int(m) % 100)]\n",
    "        m = int(m / 100)\n",
    "    res.reverse()\n",
    "    print(''.join(res))"
   ]
  },
  {
   "cell_type": "code",
   "execution_count": 22,
   "metadata": {},
   "outputs": [
    {
     "name": "stdout",
     "output_type": "stream",
     "text": [
      "MEETUNDERTHEBRIDGEATMIDNIGHT\n"
     ]
    }
   ],
   "source": [
    "m = 77696984857868698284726966827368716965847773687873717284\n",
    "tochar(m)"
   ]
  },
  {
   "cell_type": "markdown",
   "metadata": {},
   "source": [
    "## Parcial 2"
   ]
  },
  {
   "cell_type": "code",
   "execution_count": 23,
   "metadata": {},
   "outputs": [],
   "source": [
    "def fermat(n):\n",
    "    k = int(sqrt(n))+1\n",
    "    h = k ** 2 - n\n",
    "    sh = sqrt(h)\n",
    "    it = 0\n",
    "    while sh != int(sh):\n",
    "        k = k + 1\n",
    "        h = k ** 2 -n\n",
    "        sh = sqrt(h)\n",
    "        it += 1\n",
    "    return k - sh, k + sh "
   ]
  },
  {
   "cell_type": "code",
   "execution_count": 24,
   "metadata": {},
   "outputs": [
    {
     "data": {
      "text/plain": [
       "(131, 137)"
      ]
     },
     "execution_count": 24,
     "metadata": {},
     "output_type": "execute_result"
    }
   ],
   "source": [
    "fermat(17947)"
   ]
  },
  {
   "cell_type": "code",
   "execution_count": 25,
   "metadata": {},
   "outputs": [
    {
     "data": {
      "text/plain": [
       "17680"
      ]
     },
     "execution_count": 25,
     "metadata": {},
     "output_type": "execute_result"
    }
   ],
   "source": [
    "phi = (131-1)*(137-1)\n",
    "phi"
   ]
  },
  {
   "cell_type": "code",
   "execution_count": 26,
   "metadata": {},
   "outputs": [
    {
     "data": {
      "text/plain": [
       "3"
      ]
     },
     "execution_count": 26,
     "metadata": {},
     "output_type": "execute_result"
    }
   ],
   "source": [
    "e = 11787\n",
    "d = extended_euclidean(phi, e)\n",
    "zphi2 = zp.IntegerModRing(phi)\n",
    "d = zphi2(1 / e)\n",
    "d"
   ]
  },
  {
   "cell_type": "code",
   "execution_count": 27,
   "metadata": {},
   "outputs": [
    {
     "name": "stdout",
     "output_type": "stream",
     "text": [
      "DO\n"
     ]
    }
   ],
   "source": [
    "c = 6808\n",
    "tochar(power(c,3,17947))"
   ]
  },
  {
   "cell_type": "code",
   "execution_count": 28,
   "metadata": {},
   "outputs": [
    {
     "name": "stdout",
     "output_type": "stream",
     "text": [
      "NE\n"
     ]
    }
   ],
   "source": [
    "c = 4867\n",
    "tochar(power(c, 3, 17947))"
   ]
  }
 ],
 "metadata": {
  "kernelspec": {
   "display_name": "SageMath 9.0",
   "language": "sage",
   "name": "sagemath"
  },
  "language_info": {
   "codemirror_mode": {
    "name": "ipython",
    "version": 3
   },
   "file_extension": ".py",
   "mimetype": "text/x-python",
   "name": "python",
   "nbconvert_exporter": "python",
   "pygments_lexer": "ipython3",
   "version": "3.8.5"
  }
 },
 "nbformat": 4,
 "nbformat_minor": 4
}
