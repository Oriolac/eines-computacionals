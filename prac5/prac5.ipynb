{
 "cells": [
  {
   "cell_type": "markdown",
   "metadata": {},
   "source": [
    "# Part i)\n",
    " Write a code to compute discrete logarithms using BSGS."
   ]
  },
  {
   "cell_type": "code",
   "execution_count": 1,
   "metadata": {},
   "outputs": [],
   "source": [
    "import sage.rings.finite_rings.integer_mod_ring as zp"
   ]
  },
  {
   "cell_type": "code",
   "execution_count": 41,
   "metadata": {},
   "outputs": [],
   "source": [
    "sqrtrem = lambda x: Integer(x).sqrtrem()\n",
    "sqrt_up = lambda x: sqrtrem(x)[0] + int(sqrtrem(x)[1] > 0)"
   ]
  },
  {
   "cell_type": "code",
   "execution_count": 130,
   "metadata": {},
   "outputs": [],
   "source": [
    "get_x = lambda res: lambda x: x[0] * res -x[1]"
   ]
  },
  {
   "cell_type": "code",
   "execution_count": 125,
   "metadata": {},
   "outputs": [],
   "source": [
    "def shanks(ring, g, res):\n",
    "    s = sqrt_up(ring.order())\n",
    "    bs = [(ring(res * pow(g, j)), j)for j in range(0, s+1)]\n",
    "    gs = [(ring(pow(g, i * s)), i)for i in range(0, s+1)]\n",
    "    reslist = []\n",
    "    for bi in bs:\n",
    "        for gi in gs:\n",
    "            if bi[0] == gi[0]:\n",
    "                reslist.append([gi[1], bi[1]])\n",
    "    return filter(lambda x: 0 < x < (ring.order()-1), map(get_x(res), reslist)).__next__()"
   ]
  },
  {
   "cell_type": "code",
   "execution_count": 128,
   "metadata": {},
   "outputs": [
    {
     "data": {
      "text/plain": [
       "5"
      ]
     },
     "execution_count": 128,
     "metadata": {},
     "output_type": "execute_result"
    }
   ],
   "source": [
    "shanks(zp.IntegerModRing(19), 10, 2)"
   ]
  },
  {
   "cell_type": "code",
   "execution_count": 129,
   "metadata": {},
   "outputs": [
    {
     "data": {
      "text/plain": [
       "19"
      ]
     },
     "execution_count": 129,
     "metadata": {},
     "output_type": "execute_result"
    }
   ],
   "source": [
    "shanks(zp.IntegerModRing(29), 3, 12)"
   ]
  },
  {
   "cell_type": "code",
   "execution_count": 131,
   "metadata": {},
   "outputs": [
    {
     "data": {
      "text/plain": [
       "14"
      ]
     },
     "execution_count": 131,
     "metadata": {},
     "output_type": "execute_result"
    }
   ],
   "source": [
    "shanks(zp.IntegerModRing(71), 13, 19)"
   ]
  },
  {
   "cell_type": "code",
   "execution_count": 132,
   "metadata": {},
   "outputs": [
    {
     "data": {
      "text/plain": [
       "93"
      ]
     },
     "execution_count": 132,
     "metadata": {},
     "output_type": "execute_result"
    }
   ],
   "source": [
    "shanks(zp.IntegerModRing(143), 7, 50)"
   ]
  }
 ],
 "metadata": {
  "kernelspec": {
   "display_name": "Python 3 (ipykernel)",
   "language": "python",
   "name": "python3"
  },
  "language_info": {
   "codemirror_mode": {
    "name": "ipython",
    "version": 3
   },
   "file_extension": ".py",
   "mimetype": "text/x-python",
   "name": "python",
   "nbconvert_exporter": "python",
   "pygments_lexer": "ipython3",
   "version": "3.8.11"
  }
 },
 "nbformat": 4,
 "nbformat_minor": 4
}
